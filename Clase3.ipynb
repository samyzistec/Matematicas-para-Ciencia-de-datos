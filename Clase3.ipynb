{
  "nbformat": 4,
  "nbformat_minor": 0,
  "metadata": {
    "colab": {
      "provenance": [],
      "authorship_tag": "ABX9TyPndQPJTnHklbxqaEFwzFpX",
      "include_colab_link": true
    },
    "kernelspec": {
      "name": "python3",
      "display_name": "Python 3"
    },
    "language_info": {
      "name": "python"
    }
  },
  "cells": [
    {
      "cell_type": "markdown",
      "metadata": {
        "id": "view-in-github",
        "colab_type": "text"
      },
      "source": [
        "<a href=\"https://colab.research.google.com/github/samyzistec/Matematicas-para-Ciencia-de-datos/blob/master/Clase3.ipynb\" target=\"_parent\"><img src=\"https://colab.research.google.com/assets/colab-badge.svg\" alt=\"Open In Colab\"/></a>"
      ]
    },
    {
      "cell_type": "code",
      "execution_count": 1,
      "metadata": {
        "colab": {
          "base_uri": "https://localhost:8080/"
        },
        "id": "jE-qI8uNDVEN",
        "outputId": "0efeebfd-4234-4f7b-865e-b00d2d44962d"
      },
      "outputs": [
        {
          "output_type": "stream",
          "name": "stdout",
          "text": [
            "[[3 2]\n",
            " [4 5]]\n"
          ]
        }
      ],
      "source": [
        "import numpy as np\n",
        "\n",
        "A = np.array([\n",
        "    [3,2],\n",
        "    [4,5]])\n"
      ]
    },
    {
      "cell_type": "code",
      "source": [
        "print(A)"
      ],
      "metadata": {
        "colab": {
          "base_uri": "https://localhost:8080/"
        },
        "id": "2D-jHF-wDW6w",
        "outputId": "a8cc23d7-1f21-4159-ce89-dcf417d79903"
      },
      "execution_count": 2,
      "outputs": [
        {
          "output_type": "stream",
          "name": "stdout",
          "text": [
            "[[3 2]\n",
            " [4 5]]\n"
          ]
        }
      ]
    },
    {
      "cell_type": "code",
      "source": [
        "A.shape"
      ],
      "metadata": {
        "colab": {
          "base_uri": "https://localhost:8080/"
        },
        "id": "Lo6UUPrTFF6Y",
        "outputId": "3e473a17-e42d-4a81-f801-94da99fbf998"
      },
      "execution_count": 3,
      "outputs": [
        {
          "output_type": "execute_result",
          "data": {
            "text/plain": [
              "(2, 2)"
            ]
          },
          "metadata": {},
          "execution_count": 3
        }
      ]
    },
    {
      "cell_type": "code",
      "source": [
        "A_listas = [\n",
        "    [3,2],\n",
        "    [4,5]]\n",
        "\n"
      ],
      "metadata": {
        "id": "pEp5nt8IFMUF"
      },
      "execution_count": 7,
      "outputs": []
    },
    {
      "cell_type": "code",
      "source": [
        "len(A_listas)"
      ],
      "metadata": {
        "colab": {
          "base_uri": "https://localhost:8080/"
        },
        "id": "cdMrekO1FdJC",
        "outputId": "fc675019-734e-44de-8921-d1524a1faa22"
      },
      "execution_count": 8,
      "outputs": [
        {
          "output_type": "execute_result",
          "data": {
            "text/plain": [
              "2"
            ]
          },
          "metadata": {},
          "execution_count": 8
        }
      ]
    },
    {
      "cell_type": "code",
      "source": [
        "B_listas = [\n",
        "    [4,8],\n",
        "    [7,9]]\n",
        "\n",
        "B = np.array([\n",
        "    [5,7],\n",
        "    [6,4]])\n"
      ],
      "metadata": {
        "id": "431CcM1fGXao"
      },
      "execution_count": 10,
      "outputs": []
    },
    {
      "cell_type": "code",
      "source": [
        "A + B"
      ],
      "metadata": {
        "colab": {
          "base_uri": "https://localhost:8080/"
        },
        "id": "wLfIDwpkG_TP",
        "outputId": "0b77a7ad-003a-4c35-b046-fb3fe82397d5"
      },
      "execution_count": 11,
      "outputs": [
        {
          "output_type": "execute_result",
          "data": {
            "text/plain": [
              "array([[ 8,  9],\n",
              "       [10,  9]])"
            ]
          },
          "metadata": {},
          "execution_count": 11
        }
      ]
    },
    {
      "cell_type": "code",
      "source": [
        "resultado = 36 * A"
      ],
      "metadata": {
        "id": "OSYCGR8AIQKz"
      },
      "execution_count": 12,
      "outputs": []
    },
    {
      "cell_type": "code",
      "source": [
        "resultado"
      ],
      "metadata": {
        "colab": {
          "base_uri": "https://localhost:8080/"
        },
        "id": "-q2Az7gRIXlS",
        "outputId": "07154115-b84d-484c-de77-0ef0aa64f001"
      },
      "execution_count": 13,
      "outputs": [
        {
          "output_type": "execute_result",
          "data": {
            "text/plain": [
              "array([[108,  72],\n",
              "       [144, 180]])"
            ]
          },
          "metadata": {},
          "execution_count": 13
        }
      ]
    },
    {
      "cell_type": "code",
      "source": [
        "r = 2*A -3*B"
      ],
      "metadata": {
        "id": "hvJrNOUSJP7g"
      },
      "execution_count": 14,
      "outputs": []
    },
    {
      "cell_type": "code",
      "source": [
        "r"
      ],
      "metadata": {
        "colab": {
          "base_uri": "https://localhost:8080/"
        },
        "id": "Ds0YdE1zJYF_",
        "outputId": "04dda4af-c98d-4f91-97cf-90b7b90c88e3"
      },
      "execution_count": 15,
      "outputs": [
        {
          "output_type": "execute_result",
          "data": {
            "text/plain": [
              "array([[ -9, -17],\n",
              "       [-10,  -2]])"
            ]
          },
          "metadata": {},
          "execution_count": 15
        }
      ]
    },
    {
      "cell_type": "code",
      "source": [
        "r = 0.75 * A"
      ],
      "metadata": {
        "id": "LFaxaX0QJaXI"
      },
      "execution_count": 16,
      "outputs": []
    },
    {
      "cell_type": "code",
      "source": [
        "r"
      ],
      "metadata": {
        "colab": {
          "base_uri": "https://localhost:8080/"
        },
        "id": "XxjNutjwJf6c",
        "outputId": "42a233a7-5363-4c01-ed2a-143389e5e2b2"
      },
      "execution_count": 17,
      "outputs": [
        {
          "output_type": "execute_result",
          "data": {
            "text/plain": [
              "array([[2.25, 1.5 ],\n",
              "       [3.  , 3.75]])"
            ]
          },
          "metadata": {},
          "execution_count": 17
        }
      ]
    },
    {
      "cell_type": "code",
      "source": [
        "r_redondeado = np.round (r,1)\n",
        "print(r_redondeado)"
      ],
      "metadata": {
        "colab": {
          "base_uri": "https://localhost:8080/"
        },
        "id": "JFt68wdaKHA7",
        "outputId": "9ff3ac15-7904-4621-924e-f8fd0d89f5ae"
      },
      "execution_count": 19,
      "outputs": [
        {
          "output_type": "stream",
          "name": "stdout",
          "text": [
            "[[2.2 1.5]\n",
            " [3.  3.8]]\n"
          ]
        }
      ]
    },
    {
      "cell_type": "code",
      "source": [
        "matriz_a = np.array([\n",
        "    [3,8],\n",
        "    [6,7]])\n",
        "\n",
        "matriz_b = np.array([\n",
        "    [10,23],\n",
        "    [13,34]])\n"
      ],
      "metadata": {
        "id": "TN4TIy2rLIoj"
      },
      "execution_count": 20,
      "outputs": []
    },
    {
      "cell_type": "code",
      "source": [
        "for i in range(5):\n",
        "    matriz_b = 0.9 * matriz_b\n",
        "    matriz_a = matriz_a - matriz_b\n",
        "    matriz_a = np.round(0.3 * matriz_a, 4)\n",
        "    print(f\"Iteración {i+1}:\")\n",
        "    print(\"matriz_a =\\n\", matriz_a)\n",
        "    print(\"matriz_b =\\n\", matriz_b)\n",
        "    print(\"------------------------\")"
      ],
      "metadata": {
        "colab": {
          "base_uri": "https://localhost:8080/"
        },
        "id": "qQzBmL7QL5LY",
        "outputId": "b71d0ed3-697f-4f2c-a208-c748aca593fa"
      },
      "execution_count": 21,
      "outputs": [
        {
          "output_type": "stream",
          "name": "stdout",
          "text": [
            "Iteración 1:\n",
            "matriz_a =\n",
            " [[-1.8  -3.81]\n",
            " [-1.71 -7.08]]\n",
            "matriz_b =\n",
            " [[ 9.  20.7]\n",
            " [11.7 30.6]]\n",
            "------------------------\n",
            "Iteración 2:\n",
            "matriz_a =\n",
            " [[ -2.97   -6.732]\n",
            " [ -3.672 -10.386]]\n",
            "matriz_b =\n",
            " [[ 8.1  18.63]\n",
            " [10.53 27.54]]\n",
            "------------------------\n",
            "Iteración 3:\n",
            "matriz_a =\n",
            " [[ -3.078   -7.0497]\n",
            " [ -3.9447 -10.5516]]\n",
            "matriz_b =\n",
            " [[ 7.29  16.767]\n",
            " [ 9.477 24.786]]\n",
            "------------------------\n",
            "Iteración 4:\n",
            "matriz_a =\n",
            " [[-2.8917 -6.642 ]\n",
            " [-3.7422 -9.8577]]\n",
            "matriz_b =\n",
            " [[ 6.561  15.0903]\n",
            " [ 8.5293 22.3074]]\n",
            "------------------------\n",
            "Iteración 5:\n",
            "matriz_a =\n",
            " [[-2.639  -6.067 ]\n",
            " [-3.4256 -8.9803]]\n",
            "matriz_b =\n",
            " [[ 5.9049  13.58127]\n",
            " [ 7.67637 20.07666]]\n",
            "------------------------\n"
          ]
        }
      ]
    }
  ]
}